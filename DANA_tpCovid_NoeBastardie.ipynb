{
  "nbformat": 4,
  "nbformat_minor": 0,
  "metadata": {
    "colab": {
      "provenance": [],
      "collapsed_sections": [],
      "toc_visible": true
    },
    "kernelspec": {
      "name": "python3",
      "display_name": "Python 3"
    },
    "language_info": {
      "name": "python"
    }
  },
  "cells": [
    {
      "cell_type": "code",
      "metadata": {
        "colab": {
          "base_uri": "https://localhost:8080/"
        },
        "id": "izmC7Y_rC44t",
        "outputId": "1f732bb6-4793-4185-d011-4198b0652280"
      },
      "source": [
        "import os\n",
        "import pandas as pd\n",
        "import numpy as np\n",
        "import matplotlib.pyplot as plt\n",
        "\n",
        "from google.colab import drive\n",
        "drive.mount('drive')\n",
        "\n",
        "df_vacsi = pd.read_csv('/content/drive/MyDrive/Colab Notebooks/DANA/vacsi12-fra-2021-10-15-19h08.csv', sep=';')\n",
        "df_epid = pd.read_csv('/content/drive/MyDrive/Colab Notebooks/DANA/table-indicateurs-open-data-france.csv', sep=',')"
      ],
      "execution_count": null,
      "outputs": [
        {
          "output_type": "stream",
          "name": "stdout",
          "text": [
            "Mounted at drive\n"
          ]
        }
      ]
    },
    {
      "cell_type": "markdown",
      "metadata": {
        "id": "8FH5dxd2sJIn"
      },
      "source": [
        "## Exploration des datasets"
      ]
    },
    {
      "cell_type": "code",
      "metadata": {
        "colab": {
          "base_uri": "https://localhost:8080/"
        },
        "id": "DXguzkOUEUco",
        "outputId": "f003d3a0-0f2b-4543-c075-acf3956c810b"
      },
      "source": [
        "print(df_vacsi.shape,df_epid.shape,df_vacsi.head(5),df_epid.head(5))"
      ],
      "execution_count": null,
      "outputs": [
        {
          "output_type": "stream",
          "name": "stdout",
          "text": [
            "(292, 8) (579, 5)   fra        jour  n_dose1  ...  n_cum_complet  couv_dose1  couv_complet\n",
            "0  FR  2020-12-27      417  ...             51         0.0           0.0\n",
            "1  FR  2020-12-28      430  ...             89         0.0           0.0\n",
            "2  FR  2020-12-29      274  ...            106         0.0           0.0\n",
            "3  FR  2020-12-30      330  ...            121         0.0           0.0\n",
            "4  FR  2020-12-31      259  ...            140         0.0           0.0\n",
            "\n",
            "[5 rows x 8 columns]   extract_date   tx_incid   R  taux_occupation_sae  tx_pos\n",
            "0   2020-03-18        NaN NaN                 15.2     NaN\n",
            "1   2020-03-19   5.570823 NaN                 19.8     NaN\n",
            "2   2020-03-20   8.403950 NaN                 25.6     NaN\n",
            "3   2020-03-21  11.013409 NaN                 28.7     NaN\n",
            "4   2020-03-22  13.600502 NaN                 33.1     NaN\n"
          ]
        }
      ]
    },
    {
      "cell_type": "code",
      "metadata": {
        "colab": {
          "base_uri": "https://localhost:8080/"
        },
        "id": "W4TsjQ4JEZi1",
        "outputId": "f4f68ebb-487e-41d1-a3db-76feb7a9d3cf"
      },
      "source": [
        "print(df_vacsi.columns,df_vacsi[['n_dose1','n_cum_dose1','couv_dose1']])"
      ],
      "execution_count": null,
      "outputs": [
        {
          "output_type": "stream",
          "name": "stdout",
          "text": [
            "Index(['fra', 'jour', 'n_dose1', 'n_complet', 'n_cum_dose1', 'n_cum_complet',\n",
            "       'couv_dose1', 'couv_complet'],\n",
            "      dtype='object')      n_dose1  n_cum_dose1  couv_dose1\n",
            "0        417          417         0.0\n",
            "1        430          847         0.0\n",
            "2        274         1121         0.0\n",
            "3        330         1451         0.0\n",
            "4        259         1710         0.0\n",
            "..       ...          ...         ...\n",
            "287     3778     50640913        87.8\n",
            "288    26613     50667526        87.9\n",
            "289    28056     50695582        87.9\n",
            "290    36926     50732508        88.0\n",
            "291    27217     50759725        88.0\n",
            "\n",
            "[292 rows x 3 columns]\n"
          ]
        }
      ]
    },
    {
      "cell_type": "code",
      "metadata": {
        "colab": {
          "base_uri": "https://localhost:8080/"
        },
        "id": "30Nlr2BtFABW",
        "outputId": "c47ae1c3-6935-43a2-aa37-17e14d0af7f3"
      },
      "source": [
        "df_epid = df_epid.rename({'extract_date': 'jour'}, axis='columns')\n",
        "print(df_epid.columns,df_epid[['tx_incid', 'R','jour']])"
      ],
      "execution_count": null,
      "outputs": [
        {
          "output_type": "stream",
          "name": "stdout",
          "text": [
            "Index(['jour', 'tx_incid', 'R', 'taux_occupation_sae', 'tx_pos'], dtype='object')       tx_incid   R        jour\n",
            "0          NaN NaN  2020-03-18\n",
            "1     5.570823 NaN  2020-03-19\n",
            "2     8.403950 NaN  2020-03-20\n",
            "3    11.013409 NaN  2020-03-21\n",
            "4    13.600502 NaN  2020-03-22\n",
            "..         ...  ..         ...\n",
            "574  46.031442 NaN  2021-10-13\n",
            "575  48.483949 NaN  2021-10-14\n",
            "576        NaN NaN  2021-10-15\n",
            "577        NaN NaN  2021-10-16\n",
            "578        NaN NaN  2021-10-17\n",
            "\n",
            "[579 rows x 3 columns]\n"
          ]
        }
      ]
    },
    {
      "cell_type": "code",
      "metadata": {
        "id": "drzIHVJJFoht"
      },
      "source": [
        "df = df_epid.merge(df_vacsi,how = 'inner',on='jour')"
      ],
      "execution_count": null,
      "outputs": []
    },
    {
      "cell_type": "code",
      "metadata": {
        "colab": {
          "base_uri": "https://localhost:8080/",
          "height": 203
        },
        "id": "C3HxXUfCIEnP",
        "outputId": "9f89e6e6-36ca-411d-9dc8-5c0495145430"
      },
      "source": [
        "df.columns\n",
        "df.tail(5)"
      ],
      "execution_count": null,
      "outputs": [
        {
          "output_type": "execute_result",
          "data": {
            "text/html": [
              "<div>\n",
              "<style scoped>\n",
              "    .dataframe tbody tr th:only-of-type {\n",
              "        vertical-align: middle;\n",
              "    }\n",
              "\n",
              "    .dataframe tbody tr th {\n",
              "        vertical-align: top;\n",
              "    }\n",
              "\n",
              "    .dataframe thead th {\n",
              "        text-align: right;\n",
              "    }\n",
              "</style>\n",
              "<table border=\"1\" class=\"dataframe\">\n",
              "  <thead>\n",
              "    <tr style=\"text-align: right;\">\n",
              "      <th></th>\n",
              "      <th>jour</th>\n",
              "      <th>tx_incid</th>\n",
              "      <th>R</th>\n",
              "      <th>taux_occupation_sae</th>\n",
              "      <th>tx_pos</th>\n",
              "      <th>fra</th>\n",
              "      <th>n_dose1</th>\n",
              "      <th>n_complet</th>\n",
              "      <th>n_cum_dose1</th>\n",
              "      <th>n_cum_complet</th>\n",
              "      <th>couv_dose1</th>\n",
              "      <th>couv_complet</th>\n",
              "    </tr>\n",
              "  </thead>\n",
              "  <tbody>\n",
              "    <tr>\n",
              "      <th>287</th>\n",
              "      <td>2021-10-10</td>\n",
              "      <td>43.622144</td>\n",
              "      <td>NaN</td>\n",
              "      <td>22.4</td>\n",
              "      <td>1.022478</td>\n",
              "      <td>FR</td>\n",
              "      <td>3778</td>\n",
              "      <td>7413</td>\n",
              "      <td>50640913</td>\n",
              "      <td>49199596</td>\n",
              "      <td>87.8</td>\n",
              "      <td>85.3</td>\n",
              "    </tr>\n",
              "    <tr>\n",
              "      <th>288</th>\n",
              "      <td>2021-10-11</td>\n",
              "      <td>44.256876</td>\n",
              "      <td>NaN</td>\n",
              "      <td>22.6</td>\n",
              "      <td>1.042895</td>\n",
              "      <td>FR</td>\n",
              "      <td>26613</td>\n",
              "      <td>49537</td>\n",
              "      <td>50667526</td>\n",
              "      <td>49249133</td>\n",
              "      <td>87.9</td>\n",
              "      <td>85.4</td>\n",
              "    </tr>\n",
              "    <tr>\n",
              "      <th>289</th>\n",
              "      <td>2021-10-12</td>\n",
              "      <td>45.003356</td>\n",
              "      <td>NaN</td>\n",
              "      <td>22.0</td>\n",
              "      <td>1.064392</td>\n",
              "      <td>FR</td>\n",
              "      <td>28056</td>\n",
              "      <td>50210</td>\n",
              "      <td>50695582</td>\n",
              "      <td>49299343</td>\n",
              "      <td>87.9</td>\n",
              "      <td>85.5</td>\n",
              "    </tr>\n",
              "    <tr>\n",
              "      <th>290</th>\n",
              "      <td>2021-10-13</td>\n",
              "      <td>46.031442</td>\n",
              "      <td>NaN</td>\n",
              "      <td>21.6</td>\n",
              "      <td>1.086855</td>\n",
              "      <td>FR</td>\n",
              "      <td>36926</td>\n",
              "      <td>61341</td>\n",
              "      <td>50732508</td>\n",
              "      <td>49360684</td>\n",
              "      <td>88.0</td>\n",
              "      <td>85.6</td>\n",
              "    </tr>\n",
              "    <tr>\n",
              "      <th>291</th>\n",
              "      <td>2021-10-14</td>\n",
              "      <td>48.483949</td>\n",
              "      <td>NaN</td>\n",
              "      <td>21.3</td>\n",
              "      <td>1.074309</td>\n",
              "      <td>FR</td>\n",
              "      <td>27217</td>\n",
              "      <td>48496</td>\n",
              "      <td>50759725</td>\n",
              "      <td>49409180</td>\n",
              "      <td>88.0</td>\n",
              "      <td>85.7</td>\n",
              "    </tr>\n",
              "  </tbody>\n",
              "</table>\n",
              "</div>"
            ],
            "text/plain": [
              "           jour   tx_incid   R  ...  n_cum_complet  couv_dose1 couv_complet\n",
              "287  2021-10-10  43.622144 NaN  ...       49199596        87.8         85.3\n",
              "288  2021-10-11  44.256876 NaN  ...       49249133        87.9         85.4\n",
              "289  2021-10-12  45.003356 NaN  ...       49299343        87.9         85.5\n",
              "290  2021-10-13  46.031442 NaN  ...       49360684        88.0         85.6\n",
              "291  2021-10-14  48.483949 NaN  ...       49409180        88.0         85.7\n",
              "\n",
              "[5 rows x 12 columns]"
            ]
          },
          "metadata": {},
          "execution_count": 6
        }
      ]
    },
    {
      "cell_type": "markdown",
      "metadata": {
        "id": "Qr-6KvPKszzX"
      },
      "source": [
        "## Corrélation entre les annonces politiques sur les pics de vaccination :"
      ]
    },
    {
      "cell_type": "code",
      "metadata": {
        "colab": {
          "base_uri": "https://localhost:8080/",
          "height": 285
        },
        "id": "ozPicZGxJOBb",
        "outputId": "6ebcb22b-6db0-474e-9909-a46d8835fab9"
      },
      "source": [
        "from scipy.signal import savgol_filter\n",
        "X = df.index\n",
        "Y = df['n_dose1']\n",
        "y = savgol_filter(Y, 51, 3) #lissage de Y\n",
        "plt.plot(X,y)"
      ],
      "execution_count": null,
      "outputs": [
        {
          "output_type": "execute_result",
          "data": {
            "text/plain": [
              "[<matplotlib.lines.Line2D at 0x7fe81a824850>]"
            ]
          },
          "metadata": {},
          "execution_count": 7
        },
        {
          "output_type": "display_data",
          "data": {
            "image/png": "[encoded data removed]",
            "text/plain": [
              "<Figure size 432x288 with 1 Axes>"
            ]
          },
          "metadata": {
            "needs_background": "light"
          }
        }
      ]
    },
    {
      "cell_type": "code",
      "metadata": {
        "colab": {
          "base_uri": "https://localhost:8080/",
          "height": 110
        },
        "id": "vflDu2NYJyVE",
        "outputId": "4dcf11e3-f8ce-489c-d64b-3f3cc1fc5c13"
      },
      "source": [
        "df.nlargest(2, 'n_dose1')"
      ],
      "execution_count": null,
      "outputs": [
        {
          "output_type": "execute_result",
          "data": {
            "text/html": [
              "<div>\n",
              "<style scoped>\n",
              "    .dataframe tbody tr th:only-of-type {\n",
              "        vertical-align: middle;\n",
              "    }\n",
              "\n",
              "    .dataframe tbody tr th {\n",
              "        vertical-align: top;\n",
              "    }\n",
              "\n",
              "    .dataframe thead th {\n",
              "        text-align: right;\n",
              "    }\n",
              "</style>\n",
              "<table border=\"1\" class=\"dataframe\">\n",
              "  <thead>\n",
              "    <tr style=\"text-align: right;\">\n",
              "      <th></th>\n",
              "      <th>jour</th>\n",
              "      <th>tx_incid</th>\n",
              "      <th>R</th>\n",
              "      <th>taux_occupation_sae</th>\n",
              "      <th>tx_pos</th>\n",
              "      <th>fra</th>\n",
              "      <th>n_dose1</th>\n",
              "      <th>n_complet</th>\n",
              "      <th>n_cum_dose1</th>\n",
              "      <th>n_cum_complet</th>\n",
              "      <th>couv_dose1</th>\n",
              "      <th>couv_complet</th>\n",
              "    </tr>\n",
              "  </thead>\n",
              "  <tbody>\n",
              "    <tr>\n",
              "      <th>144</th>\n",
              "      <td>2021-05-20</td>\n",
              "      <td>134.327657</td>\n",
              "      <td>0.86</td>\n",
              "      <td>74.5</td>\n",
              "      <td>3.823281</td>\n",
              "      <td>FR</td>\n",
              "      <td>503604</td>\n",
              "      <td>204429</td>\n",
              "      <td>22521104</td>\n",
              "      <td>10529136</td>\n",
              "      <td>39.1</td>\n",
              "      <td>18.3</td>\n",
              "    </tr>\n",
              "    <tr>\n",
              "      <th>214</th>\n",
              "      <td>2021-07-29</td>\n",
              "      <td>224.770932</td>\n",
              "      <td>1.40</td>\n",
              "      <td>20.1</td>\n",
              "      <td>4.346875</td>\n",
              "      <td>FR</td>\n",
              "      <td>486674</td>\n",
              "      <td>357243</td>\n",
              "      <td>41956096</td>\n",
              "      <td>34924997</td>\n",
              "      <td>72.7</td>\n",
              "      <td>60.6</td>\n",
              "    </tr>\n",
              "  </tbody>\n",
              "</table>\n",
              "</div>"
            ],
            "text/plain": [
              "           jour    tx_incid     R  ...  n_cum_complet  couv_dose1 couv_complet\n",
              "144  2021-05-20  134.327657  0.86  ...       10529136        39.1         18.3\n",
              "214  2021-07-29  224.770932  1.40  ...       34924997        72.7         60.6\n",
              "\n",
              "[2 rows x 12 columns]"
            ]
          },
          "metadata": {},
          "execution_count": 8
        }
      ]
    },
    {
      "cell_type": "markdown",
      "metadata": {
        "id": "Ucj9d928sZxV"
      },
      "source": [
        "On obtient deux pics de vaccination :\n",
        "- le premier correspond à l'ouverture de la vaccination au plus de 18 ans\n",
        "- le second correspond à l'annonce du président Macron concernant le pass sanitaire"
      ]
    },
    {
      "cell_type": "code",
      "metadata": {
        "colab": {
          "base_uri": "https://localhost:8080/",
          "height": 289
        },
        "id": "xC8zCNdzL4vG",
        "outputId": "a4df6896-9e1c-482f-facd-c33a5910e356"
      },
      "source": [
        "from sklearn import preprocessing\n",
        "from sklearn.decomposition import PCA \n",
        "df_pca = df.drop(['jour','fra','R'], axis=1)\n",
        "data = df_pca.values\n",
        "pca_solver = PCA(2) \n",
        "new_data = pca_solver.fit_transform(data)\n",
        "\n",
        "fig = plt.figure()\n",
        "plt.scatter(new_data[:,0], new_data[:,1])  \n",
        "plt.show()"
      ],
      "execution_count": null,
      "outputs": [
        {
          "output_type": "display_data",
          "data": {
            "image/png": "[encoded data removed]",
            "text/plain": [
              "<Figure size 432x288 with 1 Axes>"
            ]
          },
          "metadata": {
            "needs_background": "light"
          }
        }
      ]
    },
    {
      "cell_type": "markdown",
      "metadata": {
        "id": "Yr_f4f6exs5n"
      },
      "source": [
        "Ici, la PCA n'apporte pas d'information car la dimension de nos données est déjà relativement faible."
      ]
    },
    {
      "cell_type": "code",
      "metadata": {
        "colab": {
          "base_uri": "https://localhost:8080/",
          "height": 417
        },
        "id": "fMGN3jrBPmA9",
        "outputId": "9accd98c-d7de-494a-fc5d-a6e64992e271"
      },
      "source": [
        "df"
      ],
      "execution_count": null,
      "outputs": [
        {
          "output_type": "execute_result",
          "data": {
            "text/html": [
              "<div>\n",
              "<style scoped>\n",
              "    .dataframe tbody tr th:only-of-type {\n",
              "        vertical-align: middle;\n",
              "    }\n",
              "\n",
              "    .dataframe tbody tr th {\n",
              "        vertical-align: top;\n",
              "    }\n",
              "\n",
              "    .dataframe thead th {\n",
              "        text-align: right;\n",
              "    }\n",
              "</style>\n",
              "<table border=\"1\" class=\"dataframe\">\n",
              "  <thead>\n",
              "    <tr style=\"text-align: right;\">\n",
              "      <th></th>\n",
              "      <th>jour</th>\n",
              "      <th>tx_incid</th>\n",
              "      <th>R</th>\n",
              "      <th>taux_occupation_sae</th>\n",
              "      <th>tx_pos</th>\n",
              "      <th>fra</th>\n",
              "      <th>n_dose1</th>\n",
              "      <th>n_complet</th>\n",
              "      <th>n_cum_dose1</th>\n",
              "      <th>n_cum_complet</th>\n",
              "      <th>couv_dose1</th>\n",
              "      <th>couv_complet</th>\n",
              "    </tr>\n",
              "  </thead>\n",
              "  <tbody>\n",
              "    <tr>\n",
              "      <th>0</th>\n",
              "      <td>2020-12-27</td>\n",
              "      <td>123.044038</td>\n",
              "      <td>0.95</td>\n",
              "      <td>52.4</td>\n",
              "      <td>2.809808</td>\n",
              "      <td>FR</td>\n",
              "      <td>417</td>\n",
              "      <td>51</td>\n",
              "      <td>417</td>\n",
              "      <td>51</td>\n",
              "      <td>0.0</td>\n",
              "      <td>0.0</td>\n",
              "    </tr>\n",
              "    <tr>\n",
              "      <th>1</th>\n",
              "      <td>2020-12-28</td>\n",
              "      <td>124.204732</td>\n",
              "      <td>0.94</td>\n",
              "      <td>53.3</td>\n",
              "      <td>3.156600</td>\n",
              "      <td>FR</td>\n",
              "      <td>430</td>\n",
              "      <td>38</td>\n",
              "      <td>847</td>\n",
              "      <td>89</td>\n",
              "      <td>0.0</td>\n",
              "      <td>0.0</td>\n",
              "    </tr>\n",
              "    <tr>\n",
              "      <th>2</th>\n",
              "      <td>2020-12-29</td>\n",
              "      <td>126.003138</td>\n",
              "      <td>0.95</td>\n",
              "      <td>52.7</td>\n",
              "      <td>3.738989</td>\n",
              "      <td>FR</td>\n",
              "      <td>274</td>\n",
              "      <td>17</td>\n",
              "      <td>1121</td>\n",
              "      <td>106</td>\n",
              "      <td>0.0</td>\n",
              "      <td>0.0</td>\n",
              "    </tr>\n",
              "    <tr>\n",
              "      <th>3</th>\n",
              "      <td>2020-12-30</td>\n",
              "      <td>129.529921</td>\n",
              "      <td>0.96</td>\n",
              "      <td>52.4</td>\n",
              "      <td>4.497706</td>\n",
              "      <td>FR</td>\n",
              "      <td>330</td>\n",
              "      <td>15</td>\n",
              "      <td>1451</td>\n",
              "      <td>121</td>\n",
              "      <td>0.0</td>\n",
              "      <td>0.0</td>\n",
              "    </tr>\n",
              "    <tr>\n",
              "      <th>4</th>\n",
              "      <td>2020-12-31</td>\n",
              "      <td>133.357680</td>\n",
              "      <td>0.99</td>\n",
              "      <td>51.9</td>\n",
              "      <td>5.055753</td>\n",
              "      <td>FR</td>\n",
              "      <td>259</td>\n",
              "      <td>19</td>\n",
              "      <td>1710</td>\n",
              "      <td>140</td>\n",
              "      <td>0.0</td>\n",
              "      <td>0.0</td>\n",
              "    </tr>\n",
              "    <tr>\n",
              "      <th>...</th>\n",
              "      <td>...</td>\n",
              "      <td>...</td>\n",
              "      <td>...</td>\n",
              "      <td>...</td>\n",
              "      <td>...</td>\n",
              "      <td>...</td>\n",
              "      <td>...</td>\n",
              "      <td>...</td>\n",
              "      <td>...</td>\n",
              "      <td>...</td>\n",
              "      <td>...</td>\n",
              "      <td>...</td>\n",
              "    </tr>\n",
              "    <tr>\n",
              "      <th>287</th>\n",
              "      <td>2021-10-10</td>\n",
              "      <td>43.622144</td>\n",
              "      <td>NaN</td>\n",
              "      <td>22.4</td>\n",
              "      <td>1.022478</td>\n",
              "      <td>FR</td>\n",
              "      <td>3778</td>\n",
              "      <td>7413</td>\n",
              "      <td>50640913</td>\n",
              "      <td>49199596</td>\n",
              "      <td>87.8</td>\n",
              "      <td>85.3</td>\n",
              "    </tr>\n",
              "    <tr>\n",
              "      <th>288</th>\n",
              "      <td>2021-10-11</td>\n",
              "      <td>44.256876</td>\n",
              "      <td>NaN</td>\n",
              "      <td>22.6</td>\n",
              "      <td>1.042895</td>\n",
              "      <td>FR</td>\n",
              "      <td>26613</td>\n",
              "      <td>49537</td>\n",
              "      <td>50667526</td>\n",
              "      <td>49249133</td>\n",
              "      <td>87.9</td>\n",
              "      <td>85.4</td>\n",
              "    </tr>\n",
              "    <tr>\n",
              "      <th>289</th>\n",
              "      <td>2021-10-12</td>\n",
              "      <td>45.003356</td>\n",
              "      <td>NaN</td>\n",
              "      <td>22.0</td>\n",
              "      <td>1.064392</td>\n",
              "      <td>FR</td>\n",
              "      <td>28056</td>\n",
              "      <td>50210</td>\n",
              "      <td>50695582</td>\n",
              "      <td>49299343</td>\n",
              "      <td>87.9</td>\n",
              "      <td>85.5</td>\n",
              "    </tr>\n",
              "    <tr>\n",
              "      <th>290</th>\n",
              "      <td>2021-10-13</td>\n",
              "      <td>46.031442</td>\n",
              "      <td>NaN</td>\n",
              "      <td>21.6</td>\n",
              "      <td>1.086855</td>\n",
              "      <td>FR</td>\n",
              "      <td>36926</td>\n",
              "      <td>61341</td>\n",
              "      <td>50732508</td>\n",
              "      <td>49360684</td>\n",
              "      <td>88.0</td>\n",
              "      <td>85.6</td>\n",
              "    </tr>\n",
              "    <tr>\n",
              "      <th>291</th>\n",
              "      <td>2021-10-14</td>\n",
              "      <td>48.483949</td>\n",
              "      <td>NaN</td>\n",
              "      <td>21.3</td>\n",
              "      <td>1.074309</td>\n",
              "      <td>FR</td>\n",
              "      <td>27217</td>\n",
              "      <td>48496</td>\n",
              "      <td>50759725</td>\n",
              "      <td>49409180</td>\n",
              "      <td>88.0</td>\n",
              "      <td>85.7</td>\n",
              "    </tr>\n",
              "  </tbody>\n",
              "</table>\n",
              "<p>292 rows × 12 columns</p>\n",
              "</div>"
            ],
            "text/plain": [
              "           jour    tx_incid     R  ...  n_cum_complet  couv_dose1 couv_complet\n",
              "0    2020-12-27  123.044038  0.95  ...             51         0.0          0.0\n",
              "1    2020-12-28  124.204732  0.94  ...             89         0.0          0.0\n",
              "2    2020-12-29  126.003138  0.95  ...            106         0.0          0.0\n",
              "3    2020-12-30  129.529921  0.96  ...            121         0.0          0.0\n",
              "4    2020-12-31  133.357680  0.99  ...            140         0.0          0.0\n",
              "..          ...         ...   ...  ...            ...         ...          ...\n",
              "287  2021-10-10   43.622144   NaN  ...       49199596        87.8         85.3\n",
              "288  2021-10-11   44.256876   NaN  ...       49249133        87.9         85.4\n",
              "289  2021-10-12   45.003356   NaN  ...       49299343        87.9         85.5\n",
              "290  2021-10-13   46.031442   NaN  ...       49360684        88.0         85.6\n",
              "291  2021-10-14   48.483949   NaN  ...       49409180        88.0         85.7\n",
              "\n",
              "[292 rows x 12 columns]"
            ]
          },
          "metadata": {},
          "execution_count": 10
        }
      ]
    },
    {
      "cell_type": "markdown",
      "metadata": {
        "id": "-4HOPw1FyTVt"
      },
      "source": [
        "## Quelques visualisations :"
      ]
    },
    {
      "cell_type": "code",
      "metadata": {
        "colab": {
          "base_uri": "https://localhost:8080/",
          "height": 282
        },
        "id": "iXk2EXjZPl-v",
        "outputId": "8ac24b29-5668-4db2-e4ff-6015ae35a069"
      },
      "source": [
        "from scipy.signal import savgol_filter\n",
        "X = df['couv_complet']\n",
        "Y = df['taux_occupation_sae']\n",
        "y = savgol_filter(Y, 51, 3) #lissage de Y\n",
        "plt.plot(X,y)"
      ],
      "execution_count": null,
      "outputs": [
        {
          "output_type": "execute_result",
          "data": {
            "text/plain": [
              "[<matplotlib.lines.Line2D at 0x7fe816c85810>]"
            ]
          },
          "metadata": {},
          "execution_count": 11
        },
        {
          "output_type": "display_data",
          "data": {
            "image/png": "[encoded data removed]",
            "text/plain": [
              "<Figure size 432x288 with 1 Axes>"
            ]
          },
          "metadata": {
            "needs_background": "light"
          }
        }
      ]
    },
    {
      "cell_type": "code",
      "metadata": {
        "colab": {
          "base_uri": "https://localhost:8080/",
          "height": 282
        },
        "id": "230E3HU2Pl8T",
        "outputId": "b7b4f130-3ddf-4614-9218-daa4ab74105f"
      },
      "source": [
        "from scipy.signal import savgol_filter\n",
        "X = df.index\n",
        "Y = df['taux_occupation_sae']\n",
        "y = savgol_filter(Y, 51, 3) #lissage de Y\n",
        "plt.plot(X,y)"
      ],
      "execution_count": null,
      "outputs": [
        {
          "output_type": "execute_result",
          "data": {
            "text/plain": [
              "[<matplotlib.lines.Line2D at 0x7fe816beaad0>]"
            ]
          },
          "metadata": {},
          "execution_count": 12
        },
        {
          "output_type": "display_data",
          "data": {
            "image/png": "[encoded data removed]",
            "text/plain": [
              "<Figure size 432x288 with 1 Axes>"
            ]
          },
          "metadata": {
            "needs_background": "light"
          }
        }
      ]
    },
    {
      "cell_type": "code",
      "metadata": {
        "id": "NhYBjob6Pl2_"
      },
      "source": [
        "df2 = pd.read_csv('/content/drive/MyDrive/Colab Notebooks/DANA/synthese-fra (1).csv')"
      ],
      "execution_count": null,
      "outputs": []
    },
    {
      "cell_type": "code",
      "metadata": {
        "colab": {
          "base_uri": "https://localhost:8080/",
          "height": 605
        },
        "id": "MpNMPHoLPlx6",
        "outputId": "95441acd-8872-4142-b351-c060ab45f328"
      },
      "source": [
        "df2"
      ],
      "execution_count": null,
      "outputs": [
        {
          "output_type": "execute_result",
          "data": {
            "text/html": [
              "<div>\n",
              "<style scoped>\n",
              "    .dataframe tbody tr th:only-of-type {\n",
              "        vertical-align: middle;\n",
              "    }\n",
              "\n",
              "    .dataframe tbody tr th {\n",
              "        vertical-align: top;\n",
              "    }\n",
              "\n",
              "    .dataframe thead th {\n",
              "        text-align: right;\n",
              "    }\n",
              "</style>\n",
              "<table border=\"1\" class=\"dataframe\">\n",
              "  <thead>\n",
              "    <tr style=\"text-align: right;\">\n",
              "      <th></th>\n",
              "      <th>date</th>\n",
              "      <th>total_cas_confirmes</th>\n",
              "      <th>total_deces_hopital</th>\n",
              "      <th>total_deces_ehpad</th>\n",
              "      <th>total_cas_confirmes_ehpad</th>\n",
              "      <th>total_cas_possibles_ehpad</th>\n",
              "      <th>patients_reanimation</th>\n",
              "      <th>patients_hospitalises</th>\n",
              "      <th>total_patients_gueris</th>\n",
              "      <th>nouveaux_patients_hospitalises</th>\n",
              "      <th>nouveaux_patients_reanimation</th>\n",
              "    </tr>\n",
              "  </thead>\n",
              "  <tbody>\n",
              "    <tr>\n",
              "      <th>0</th>\n",
              "      <td>2020-03-02</td>\n",
              "      <td>191</td>\n",
              "      <td>3</td>\n",
              "      <td>NaN</td>\n",
              "      <td>NaN</td>\n",
              "      <td>NaN</td>\n",
              "      <td>NaN</td>\n",
              "      <td>NaN</td>\n",
              "      <td>NaN</td>\n",
              "      <td>NaN</td>\n",
              "      <td>NaN</td>\n",
              "    </tr>\n",
              "    <tr>\n",
              "      <th>1</th>\n",
              "      <td>2020-03-03</td>\n",
              "      <td>212</td>\n",
              "      <td>4</td>\n",
              "      <td>NaN</td>\n",
              "      <td>NaN</td>\n",
              "      <td>NaN</td>\n",
              "      <td>NaN</td>\n",
              "      <td>NaN</td>\n",
              "      <td>12.0</td>\n",
              "      <td>NaN</td>\n",
              "      <td>NaN</td>\n",
              "    </tr>\n",
              "    <tr>\n",
              "      <th>2</th>\n",
              "      <td>2020-03-04</td>\n",
              "      <td>285</td>\n",
              "      <td>4</td>\n",
              "      <td>NaN</td>\n",
              "      <td>NaN</td>\n",
              "      <td>NaN</td>\n",
              "      <td>15.0</td>\n",
              "      <td>NaN</td>\n",
              "      <td>NaN</td>\n",
              "      <td>NaN</td>\n",
              "      <td>NaN</td>\n",
              "    </tr>\n",
              "    <tr>\n",
              "      <th>3</th>\n",
              "      <td>2020-03-05</td>\n",
              "      <td>423</td>\n",
              "      <td>7</td>\n",
              "      <td>NaN</td>\n",
              "      <td>NaN</td>\n",
              "      <td>NaN</td>\n",
              "      <td>23.0</td>\n",
              "      <td>NaN</td>\n",
              "      <td>NaN</td>\n",
              "      <td>NaN</td>\n",
              "      <td>NaN</td>\n",
              "    </tr>\n",
              "    <tr>\n",
              "      <th>4</th>\n",
              "      <td>2020-03-06</td>\n",
              "      <td>613</td>\n",
              "      <td>9</td>\n",
              "      <td>NaN</td>\n",
              "      <td>NaN</td>\n",
              "      <td>NaN</td>\n",
              "      <td>39.0</td>\n",
              "      <td>NaN</td>\n",
              "      <td>NaN</td>\n",
              "      <td>NaN</td>\n",
              "      <td>NaN</td>\n",
              "    </tr>\n",
              "    <tr>\n",
              "      <th>...</th>\n",
              "      <td>...</td>\n",
              "      <td>...</td>\n",
              "      <td>...</td>\n",
              "      <td>...</td>\n",
              "      <td>...</td>\n",
              "      <td>...</td>\n",
              "      <td>...</td>\n",
              "      <td>...</td>\n",
              "      <td>...</td>\n",
              "      <td>...</td>\n",
              "      <td>...</td>\n",
              "    </tr>\n",
              "    <tr>\n",
              "      <th>590</th>\n",
              "      <td>2021-10-13</td>\n",
              "      <td>7069089</td>\n",
              "      <td>90280</td>\n",
              "      <td>26865.0</td>\n",
              "      <td>NaN</td>\n",
              "      <td>NaN</td>\n",
              "      <td>1091.0</td>\n",
              "      <td>6601.0</td>\n",
              "      <td>424238.0</td>\n",
              "      <td>219.0</td>\n",
              "      <td>58.0</td>\n",
              "    </tr>\n",
              "    <tr>\n",
              "      <th>591</th>\n",
              "      <td>2021-10-14</td>\n",
              "      <td>7074276</td>\n",
              "      <td>90318</td>\n",
              "      <td>26867.0</td>\n",
              "      <td>NaN</td>\n",
              "      <td>NaN</td>\n",
              "      <td>1075.0</td>\n",
              "      <td>6523.0</td>\n",
              "      <td>424464.0</td>\n",
              "      <td>206.0</td>\n",
              "      <td>44.0</td>\n",
              "    </tr>\n",
              "    <tr>\n",
              "      <th>592</th>\n",
              "      <td>2021-10-15</td>\n",
              "      <td>7080375</td>\n",
              "      <td>90352</td>\n",
              "      <td>26869.0</td>\n",
              "      <td>NaN</td>\n",
              "      <td>NaN</td>\n",
              "      <td>1051.0</td>\n",
              "      <td>6470.0</td>\n",
              "      <td>424693.0</td>\n",
              "      <td>215.0</td>\n",
              "      <td>43.0</td>\n",
              "    </tr>\n",
              "    <tr>\n",
              "      <th>593</th>\n",
              "      <td>2021-10-16</td>\n",
              "      <td>7085274</td>\n",
              "      <td>90367</td>\n",
              "      <td>26869.0</td>\n",
              "      <td>NaN</td>\n",
              "      <td>NaN</td>\n",
              "      <td>1049.0</td>\n",
              "      <td>6437.0</td>\n",
              "      <td>424817.0</td>\n",
              "      <td>109.0</td>\n",
              "      <td>25.0</td>\n",
              "    </tr>\n",
              "    <tr>\n",
              "      <th>594</th>\n",
              "      <td>2021-10-17</td>\n",
              "      <td>7089052</td>\n",
              "      <td>90372</td>\n",
              "      <td>26869.0</td>\n",
              "      <td>NaN</td>\n",
              "      <td>NaN</td>\n",
              "      <td>1052.0</td>\n",
              "      <td>6448.0</td>\n",
              "      <td>424868.0</td>\n",
              "      <td>71.0</td>\n",
              "      <td>18.0</td>\n",
              "    </tr>\n",
              "  </tbody>\n",
              "</table>\n",
              "<p>595 rows × 11 columns</p>\n",
              "</div>"
            ],
            "text/plain": [
              "           date  ...  nouveaux_patients_reanimation\n",
              "0    2020-03-02  ...                            NaN\n",
              "1    2020-03-03  ...                            NaN\n",
              "2    2020-03-04  ...                            NaN\n",
              "3    2020-03-05  ...                            NaN\n",
              "4    2020-03-06  ...                            NaN\n",
              "..          ...  ...                            ...\n",
              "590  2021-10-13  ...                           58.0\n",
              "591  2021-10-14  ...                           44.0\n",
              "592  2021-10-15  ...                           43.0\n",
              "593  2021-10-16  ...                           25.0\n",
              "594  2021-10-17  ...                           18.0\n",
              "\n",
              "[595 rows x 11 columns]"
            ]
          },
          "metadata": {},
          "execution_count": 14
        }
      ]
    },
    {
      "cell_type": "code",
      "metadata": {
        "colab": {
          "base_uri": "https://localhost:8080/",
          "height": 282
        },
        "id": "gNuVEOeRXEsD",
        "outputId": "594f7041-b5f6-4739-d908-ebdb44787c7d"
      },
      "source": [
        "from scipy.signal import savgol_filter\n",
        "X = df2.index\n",
        "Y = df2['patients_reanimation']\n",
        "#y = savgol_filter(Y, 51, 3) #lissage de Y\n",
        "plt.plot(X,Y)"
      ],
      "execution_count": null,
      "outputs": [
        {
          "output_type": "execute_result",
          "data": {
            "text/plain": [
              "[<matplotlib.lines.Line2D at 0x7fe810fbad50>]"
            ]
          },
          "metadata": {},
          "execution_count": 39
        },
        {
          "output_type": "display_data",
          "data": {
            "image/png": "[encoded data removed]",
            "text/plain": [
              "<Figure size 432x288 with 1 Axes>"
            ]
          },
          "metadata": {
            "needs_background": "light"
          }
        }
      ]
    },
    {
      "cell_type": "code",
      "metadata": {
        "colab": {
          "base_uri": "https://localhost:8080/",
          "height": 282
        },
        "id": "ypmfUIt5ao0a",
        "outputId": "151e7bd8-881d-4329-b318-ad55d7f54ac2"
      },
      "source": [
        "from scipy.signal import savgol_filter\n",
        "X = df2.index\n",
        "Y = df2['total_deces_hopital']\n",
        "#y = savgol_filter(Y, 51, 3) #lissage de Y\n",
        "plt.plot(X,Y)"
      ],
      "execution_count": null,
      "outputs": [
        {
          "output_type": "execute_result",
          "data": {
            "text/plain": [
              "[<matplotlib.lines.Line2D at 0x7fe810f30cd0>]"
            ]
          },
          "metadata": {},
          "execution_count": 40
        },
        {
          "output_type": "display_data",
          "data": {
            "image/png": "[encoded data removed]",
            "text/plain": [
              "<Figure size 432x288 with 1 Axes>"
            ]
          },
          "metadata": {
            "needs_background": "light"
          }
        }
      ]
    },
    {
      "cell_type": "markdown",
      "metadata": {
        "id": "jNl6VbqKfQFc"
      },
      "source": [
        "https://github.com/CSSEGISandData/COVID-19 liens"
      ]
    },
    {
      "cell_type": "markdown",
      "metadata": {
        "id": "XcPLbcmIDKuu"
      },
      "source": [
        "## Corrélation entre décès et cas confirmés :"
      ]
    },
    {
      "cell_type": "code",
      "metadata": {
        "colab": {
          "base_uri": "https://localhost:8080/",
          "height": 110
        },
        "id": "Br8gwfe2u1S4",
        "outputId": "7dfee6dd-06c3-4061-aaa5-7dcd956bec51"
      },
      "source": [
        "df_cas_deces = df2[['total_cas_confirmes','total_deces_hopital']]\n",
        "df_cas_deces.corr()"
      ],
      "execution_count": null,
      "outputs": [
        {
          "output_type": "execute_result",
          "data": {
            "text/html": [
              "<div>\n",
              "<style scoped>\n",
              "    .dataframe tbody tr th:only-of-type {\n",
              "        vertical-align: middle;\n",
              "    }\n",
              "\n",
              "    .dataframe tbody tr th {\n",
              "        vertical-align: top;\n",
              "    }\n",
              "\n",
              "    .dataframe thead th {\n",
              "        text-align: right;\n",
              "    }\n",
              "</style>\n",
              "<table border=\"1\" class=\"dataframe\">\n",
              "  <thead>\n",
              "    <tr style=\"text-align: right;\">\n",
              "      <th></th>\n",
              "      <th>total_cas_confirmes</th>\n",
              "      <th>total_deces_hopital</th>\n",
              "    </tr>\n",
              "  </thead>\n",
              "  <tbody>\n",
              "    <tr>\n",
              "      <th>total_cas_confirmes</th>\n",
              "      <td>1.000000</td>\n",
              "      <td>0.988841</td>\n",
              "    </tr>\n",
              "    <tr>\n",
              "      <th>total_deces_hopital</th>\n",
              "      <td>0.988841</td>\n",
              "      <td>1.000000</td>\n",
              "    </tr>\n",
              "  </tbody>\n",
              "</table>\n",
              "</div>"
            ],
            "text/plain": [
              "                     total_cas_confirmes  total_deces_hopital\n",
              "total_cas_confirmes             1.000000             0.988841\n",
              "total_deces_hopital             0.988841             1.000000"
            ]
          },
          "metadata": {},
          "execution_count": 41
        }
      ]
    },
    {
      "cell_type": "markdown",
      "metadata": {
        "id": "wT6WFAH2vAM-"
      },
      "source": [
        "La corrélation entre ces deux indicateurs est très importante.\n"
      ]
    },
    {
      "cell_type": "code",
      "metadata": {
        "colab": {
          "base_uri": "https://localhost:8080/",
          "height": 293
        },
        "id": "bzTRYd8HBsLo",
        "outputId": "17cd9619-69e3-4773-bf7b-30bb794f4a53"
      },
      "source": [
        "Y_2 = df2['total_cas_confirmes']\n",
        "plt.plot(X,Y_2)"
      ],
      "execution_count": null,
      "outputs": [
        {
          "output_type": "execute_result",
          "data": {
            "text/plain": [
              "[<matplotlib.lines.Line2D at 0x7fe810f22550>]"
            ]
          },
          "metadata": {},
          "execution_count": 42
        },
        {
          "output_type": "display_data",
          "data": {
            "image/png": "[encoded data removed]",
            "text/plain": [
              "<Figure size 432x288 with 1 Axes>"
            ]
          },
          "metadata": {
            "needs_background": "light"
          }
        }
      ]
    },
    {
      "cell_type": "code",
      "metadata": {
        "colab": {
          "base_uri": "https://localhost:8080/",
          "height": 282
        },
        "id": "4ZfCb6vhvUxB",
        "outputId": "f38a5934-e18e-4113-adb7-3f62eb52d7c3"
      },
      "source": [
        "plt.plot(X,Y)"
      ],
      "execution_count": null,
      "outputs": [
        {
          "output_type": "execute_result",
          "data": {
            "text/plain": [
              "[<matplotlib.lines.Line2D at 0x7fe810e99150>]"
            ]
          },
          "metadata": {},
          "execution_count": 43
        },
        {
          "output_type": "display_data",
          "data": {
            "image/png": "[encoded data removed]",
            "text/plain": [
              "<Figure size 432x288 with 1 Axes>"
            ]
          },
          "metadata": {
            "needs_background": "light"
          }
        }
      ]
    },
    {
      "cell_type": "markdown",
      "metadata": {
        "id": "lmjkd4wcDOkj"
      },
      "source": [
        "On remarque que la courbe des décès suit effectivement celle des cas confirmés sauf au début de l'épidémie, ce qui s'explique par l'absence de tests réalisé au début de l'épidémie. On peut donc pensé que le nombre de cas réels était bien supérieur aux chiffres annoncé à cette période. "
      ]
    },
    {
      "cell_type": "markdown",
      "metadata": {
        "id": "i5aL_2YSD_js"
      },
      "source": [
        "Trouvons le nombre de cas réel pendant le début de l'épidémie à l'aide du ML :"
      ]
    },
    {
      "cell_type": "code",
      "metadata": {
        "colab": {
          "base_uri": "https://localhost:8080/"
        },
        "id": "9ydLXrDPCrb-",
        "outputId": "7d378599-9c1b-4c46-fb36-74b2e47ed571"
      },
      "source": [
        "from sklearn.model_selection import train_test_split\n",
        "\n",
        "X = np.array(df2['total_deces_hopital'].values)\n",
        "Y = np.array(df2['total_cas_confirmes'].values)\n",
        "\n",
        "X_train = X[260:].reshape(-1, 1)\n",
        "X_test = X[:260].reshape(-1, 1)\n",
        "y_train = Y[260:].reshape(-1, 1)\n",
        "y_test = Y[:260].reshape(-1, 1)\n",
        "\n",
        "print(y_test.shape)"
      ],
      "execution_count": null,
      "outputs": [
        {
          "output_type": "stream",
          "name": "stdout",
          "text": [
            "(260, 1)\n"
          ]
        }
      ]
    },
    {
      "cell_type": "code",
      "metadata": {
        "colab": {
          "base_uri": "https://localhost:8080/"
        },
        "id": "fF3CFFW3FT-R",
        "outputId": "8925f4ba-5036-4de9-f6f2-dc452d0aa400"
      },
      "source": [
        "from sklearn import linear_model\n",
        "\n",
        "model_lasso = linear_model.LassoCV()\n",
        "model_lasso.fit(X_train,y_train)\n",
        "\n",
        "y_pred = model_lasso.predict(X_test)"
      ],
      "execution_count": null,
      "outputs": [
        {
          "output_type": "stream",
          "name": "stderr",
          "text": [
            "/usr/local/lib/python3.7/dist-packages/sklearn/linear_model/_coordinate_descent.py:1088: DataConversionWarning: A column-vector y was passed when a 1d array was expected. Please change the shape of y to (n_samples, ), for example using ravel().\n",
            "  y = column_or_1d(y, warn=True)\n"
          ]
        }
      ]
    },
    {
      "cell_type": "code",
      "metadata": {
        "colab": {
          "base_uri": "https://localhost:8080/"
        },
        "id": "ULEo_YLJGiZq",
        "outputId": "399788c8-8d6f-4d00-8f76-b034b048c994"
      },
      "source": [
        "print(y_pred.reshape(1, -1).shape)"
      ],
      "execution_count": null,
      "outputs": [
        {
          "output_type": "stream",
          "name": "stdout",
          "text": [
            "(1, 260)\n"
          ]
        }
      ]
    },
    {
      "cell_type": "code",
      "metadata": {
        "colab": {
          "base_uri": "https://localhost:8080/",
          "height": 298
        },
        "id": "JYjs9RbLGN5x",
        "outputId": "9f87304b-2fca-426d-8c8f-05df55c0931a"
      },
      "source": [
        "plt.plot(df2.index.values.reshape(-1, 1),X)\n",
        "plt.title('évolution du nombre de décès au cours de l épidémie')"
      ],
      "execution_count": null,
      "outputs": [
        {
          "output_type": "execute_result",
          "data": {
            "text/plain": [
              "Text(0.5, 1.0, 'évolution du nombre de décès au cours de l épidémie')"
            ]
          },
          "metadata": {},
          "execution_count": 74
        },
        {
          "output_type": "display_data",
          "data": {
            "image/png": "[encoded data removed]",
            "text/plain": [
              "<Figure size 432x288 with 1 Axes>"
            ]
          },
          "metadata": {
            "needs_background": "light"
          }
        }
      ]
    },
    {
      "cell_type": "code",
      "metadata": {
        "colab": {
          "base_uri": "https://localhost:8080/",
          "height": 298
        },
        "id": "V1R43fUuv6AJ",
        "outputId": "3ef3cc5a-e164-4140-b1a9-a1854bab1f7e"
      },
      "source": [
        "plt.plot(df2.index.values.reshape(-1, 1),Y)\n",
        "plt.title('évolution du nombre de cas au cours de l épidémie (resultats officiels)')"
      ],
      "execution_count": null,
      "outputs": [
        {
          "output_type": "execute_result",
          "data": {
            "text/plain": [
              "Text(0.5, 1.0, 'évolution du nombre de cas au cours de l épidémie (resultats officiels)')"
            ]
          },
          "metadata": {},
          "execution_count": 75
        },
        {
          "output_type": "display_data",
          "data": {
            "image/png": "[encoded data removed]",
            "text/plain": [
              "<Figure size 432x288 with 1 Axes>"
            ]
          },
          "metadata": {
            "needs_background": "light"
          }
        }
      ]
    },
    {
      "cell_type": "code",
      "metadata": {
        "colab": {
          "base_uri": "https://localhost:8080/",
          "height": 318
        },
        "id": "3HoE5z9pvoWC",
        "outputId": "fc522590-003e-460b-8c13-eae1d74f8693"
      },
      "source": [
        "plt.plot(df2.index.values.reshape(-1, 1)[:260],y_pred+939215)\n",
        "plt.plot(df2.index.values.reshape(-1, 1)[260:],y_train)\n",
        "plt.title('évolution du nombre de cas au cours de l épidémie en considérant que des tests ont été effectués dès le début (nombre de cas réel)')"
      ],
      "execution_count": null,
      "outputs": [
        {
          "output_type": "execute_result",
          "data": {
            "text/plain": [
              "Text(0.5, 1.0, 'évolution du nombre de cas au cours de l épidémie en considérant que des tests ont été effectués dès le début (nombre de cas réel)')"
            ]
          },
          "metadata": {},
          "execution_count": 76
        },
        {
          "output_type": "display_data",
          "data": {
            "image/png": "[encoded data removed]",
            "text/plain": [
              "<Figure size 432x288 with 1 Axes>"
            ]
          },
          "metadata": {
            "needs_background": "light"
          }
        }
      ]
    },
    {
      "cell_type": "markdown",
      "metadata": {
        "id": "_gjzAts_Mwz7"
      },
      "source": [
        "On remarque que si il y avait eu effectivement autant de test effectué au début de l'épidémie qu'à partir du 260ème jour (jour considérer arbitrairement comme celui à partir duquel les gens vont se faire tester en masse), on aurait un nombre de cas confirmé bien supérieur au début de l'épidémie (courbe orange vs rouge). Donc le nombre de cas annoncé au début de l'épidémie ne correspondait pas au nombre de cas réel (ce qui est du au manque de tests réalisés au début)."
      ]
    },
    {
      "cell_type": "markdown",
      "metadata": {
        "id": "r6tGrkv0xgx7"
      },
      "source": [
        "# Création d'un nouveau dataframe et d'une nouvelle colonne :"
      ]
    },
    {
      "cell_type": "code",
      "metadata": {
        "id": "RoC6_V-3ITeA"
      },
      "source": [
        "df2 = df2.rename({'date': 'jour'}, axis='columns')\n",
        "df3 = df_epid.merge(df2,how = 'inner',on='jour')"
      ],
      "execution_count": null,
      "outputs": []
    },
    {
      "cell_type": "code",
      "metadata": {
        "colab": {
          "base_uri": "https://localhost:8080/",
          "height": 605
        },
        "id": "VXtoRE0pP12G",
        "outputId": "ac813c0e-cc36-47e3-9dcd-a8dc43f43f8c"
      },
      "source": [
        "df3"
      ],
      "execution_count": null,
      "outputs": [
        {
          "output_type": "execute_result",
          "data": {
            "text/html": [
              "<div>\n",
              "<style scoped>\n",
              "    .dataframe tbody tr th:only-of-type {\n",
              "        vertical-align: middle;\n",
              "    }\n",
              "\n",
              "    .dataframe tbody tr th {\n",
              "        vertical-align: top;\n",
              "    }\n",
              "\n",
              "    .dataframe thead th {\n",
              "        text-align: right;\n",
              "    }\n",
              "</style>\n",
              "<table border=\"1\" class=\"dataframe\">\n",
              "  <thead>\n",
              "    <tr style=\"text-align: right;\">\n",
              "      <th></th>\n",
              "      <th>jour</th>\n",
              "      <th>tx_incid</th>\n",
              "      <th>R</th>\n",
              "      <th>taux_occupation_sae</th>\n",
              "      <th>tx_pos</th>\n",
              "      <th>total_cas_confirmes</th>\n",
              "      <th>total_deces_hopital</th>\n",
              "      <th>total_deces_ehpad</th>\n",
              "      <th>total_cas_confirmes_ehpad</th>\n",
              "      <th>total_cas_possibles_ehpad</th>\n",
              "      <th>patients_reanimation</th>\n",
              "      <th>patients_hospitalises</th>\n",
              "      <th>total_patients_gueris</th>\n",
              "      <th>nouveaux_patients_hospitalises</th>\n",
              "      <th>nouveaux_patients_reanimation</th>\n",
              "    </tr>\n",
              "  </thead>\n",
              "  <tbody>\n",
              "    <tr>\n",
              "      <th>0</th>\n",
              "      <td>2020-03-18</td>\n",
              "      <td>NaN</td>\n",
              "      <td>NaN</td>\n",
              "      <td>15.2</td>\n",
              "      <td>NaN</td>\n",
              "      <td>9134</td>\n",
              "      <td>264</td>\n",
              "      <td>NaN</td>\n",
              "      <td>NaN</td>\n",
              "      <td>NaN</td>\n",
              "      <td>931.0</td>\n",
              "      <td>3626.0</td>\n",
              "      <td>1000.0</td>\n",
              "      <td>NaN</td>\n",
              "      <td>NaN</td>\n",
              "    </tr>\n",
              "    <tr>\n",
              "      <th>1</th>\n",
              "      <td>2020-03-19</td>\n",
              "      <td>5.570823</td>\n",
              "      <td>NaN</td>\n",
              "      <td>19.8</td>\n",
              "      <td>NaN</td>\n",
              "      <td>10995</td>\n",
              "      <td>372</td>\n",
              "      <td>NaN</td>\n",
              "      <td>NaN</td>\n",
              "      <td>NaN</td>\n",
              "      <td>1122.0</td>\n",
              "      <td>4461.0</td>\n",
              "      <td>1300.0</td>\n",
              "      <td>2229.0</td>\n",
              "      <td>438.0</td>\n",
              "    </tr>\n",
              "    <tr>\n",
              "      <th>2</th>\n",
              "      <td>2020-03-20</td>\n",
              "      <td>8.403950</td>\n",
              "      <td>NaN</td>\n",
              "      <td>25.6</td>\n",
              "      <td>NaN</td>\n",
              "      <td>12612</td>\n",
              "      <td>450</td>\n",
              "      <td>NaN</td>\n",
              "      <td>NaN</td>\n",
              "      <td>NaN</td>\n",
              "      <td>1297.0</td>\n",
              "      <td>5226.0</td>\n",
              "      <td>1587.0</td>\n",
              "      <td>1256.0</td>\n",
              "      <td>242.0</td>\n",
              "    </tr>\n",
              "    <tr>\n",
              "      <th>3</th>\n",
              "      <td>2020-03-21</td>\n",
              "      <td>11.013409</td>\n",
              "      <td>NaN</td>\n",
              "      <td>28.7</td>\n",
              "      <td>NaN</td>\n",
              "      <td>14459</td>\n",
              "      <td>562</td>\n",
              "      <td>NaN</td>\n",
              "      <td>NaN</td>\n",
              "      <td>NaN</td>\n",
              "      <td>1525.0</td>\n",
              "      <td>6172.0</td>\n",
              "      <td>1811.0</td>\n",
              "      <td>1540.0</td>\n",
              "      <td>298.0</td>\n",
              "    </tr>\n",
              "    <tr>\n",
              "      <th>4</th>\n",
              "      <td>2020-03-22</td>\n",
              "      <td>13.600502</td>\n",
              "      <td>NaN</td>\n",
              "      <td>33.1</td>\n",
              "      <td>NaN</td>\n",
              "      <td>16689</td>\n",
              "      <td>674</td>\n",
              "      <td>NaN</td>\n",
              "      <td>NaN</td>\n",
              "      <td>NaN</td>\n",
              "      <td>1746.0</td>\n",
              "      <td>7240.0</td>\n",
              "      <td>2200.0</td>\n",
              "      <td>1534.0</td>\n",
              "      <td>309.0</td>\n",
              "    </tr>\n",
              "    <tr>\n",
              "      <th>...</th>\n",
              "      <td>...</td>\n",
              "      <td>...</td>\n",
              "      <td>...</td>\n",
              "      <td>...</td>\n",
              "      <td>...</td>\n",
              "      <td>...</td>\n",
              "      <td>...</td>\n",
              "      <td>...</td>\n",
              "      <td>...</td>\n",
              "      <td>...</td>\n",
              "      <td>...</td>\n",
              "      <td>...</td>\n",
              "      <td>...</td>\n",
              "      <td>...</td>\n",
              "      <td>...</td>\n",
              "    </tr>\n",
              "    <tr>\n",
              "      <th>574</th>\n",
              "      <td>2021-10-13</td>\n",
              "      <td>46.031442</td>\n",
              "      <td>NaN</td>\n",
              "      <td>21.6</td>\n",
              "      <td>1.086855</td>\n",
              "      <td>7069089</td>\n",
              "      <td>90280</td>\n",
              "      <td>26865.0</td>\n",
              "      <td>NaN</td>\n",
              "      <td>NaN</td>\n",
              "      <td>1091.0</td>\n",
              "      <td>6601.0</td>\n",
              "      <td>424238.0</td>\n",
              "      <td>219.0</td>\n",
              "      <td>58.0</td>\n",
              "    </tr>\n",
              "    <tr>\n",
              "      <th>575</th>\n",
              "      <td>2021-10-14</td>\n",
              "      <td>48.483949</td>\n",
              "      <td>NaN</td>\n",
              "      <td>21.3</td>\n",
              "      <td>1.074309</td>\n",
              "      <td>7074276</td>\n",
              "      <td>90318</td>\n",
              "      <td>26867.0</td>\n",
              "      <td>NaN</td>\n",
              "      <td>NaN</td>\n",
              "      <td>1075.0</td>\n",
              "      <td>6523.0</td>\n",
              "      <td>424464.0</td>\n",
              "      <td>206.0</td>\n",
              "      <td>44.0</td>\n",
              "    </tr>\n",
              "    <tr>\n",
              "      <th>576</th>\n",
              "      <td>2021-10-15</td>\n",
              "      <td>NaN</td>\n",
              "      <td>NaN</td>\n",
              "      <td>20.8</td>\n",
              "      <td>NaN</td>\n",
              "      <td>7080375</td>\n",
              "      <td>90352</td>\n",
              "      <td>26869.0</td>\n",
              "      <td>NaN</td>\n",
              "      <td>NaN</td>\n",
              "      <td>1051.0</td>\n",
              "      <td>6470.0</td>\n",
              "      <td>424693.0</td>\n",
              "      <td>215.0</td>\n",
              "      <td>43.0</td>\n",
              "    </tr>\n",
              "    <tr>\n",
              "      <th>577</th>\n",
              "      <td>2021-10-16</td>\n",
              "      <td>NaN</td>\n",
              "      <td>NaN</td>\n",
              "      <td>20.7</td>\n",
              "      <td>NaN</td>\n",
              "      <td>7085274</td>\n",
              "      <td>90367</td>\n",
              "      <td>26869.0</td>\n",
              "      <td>NaN</td>\n",
              "      <td>NaN</td>\n",
              "      <td>1049.0</td>\n",
              "      <td>6437.0</td>\n",
              "      <td>424817.0</td>\n",
              "      <td>109.0</td>\n",
              "      <td>25.0</td>\n",
              "    </tr>\n",
              "    <tr>\n",
              "      <th>578</th>\n",
              "      <td>2021-10-17</td>\n",
              "      <td>NaN</td>\n",
              "      <td>NaN</td>\n",
              "      <td>20.8</td>\n",
              "      <td>NaN</td>\n",
              "      <td>7089052</td>\n",
              "      <td>90372</td>\n",
              "      <td>26869.0</td>\n",
              "      <td>NaN</td>\n",
              "      <td>NaN</td>\n",
              "      <td>1052.0</td>\n",
              "      <td>6448.0</td>\n",
              "      <td>424868.0</td>\n",
              "      <td>71.0</td>\n",
              "      <td>18.0</td>\n",
              "    </tr>\n",
              "  </tbody>\n",
              "</table>\n",
              "<p>579 rows × 15 columns</p>\n",
              "</div>"
            ],
            "text/plain": [
              "           jour  ...  nouveaux_patients_reanimation\n",
              "0    2020-03-18  ...                            NaN\n",
              "1    2020-03-19  ...                          438.0\n",
              "2    2020-03-20  ...                          242.0\n",
              "3    2020-03-21  ...                          298.0\n",
              "4    2020-03-22  ...                          309.0\n",
              "..          ...  ...                            ...\n",
              "574  2021-10-13  ...                           58.0\n",
              "575  2021-10-14  ...                           44.0\n",
              "576  2021-10-15  ...                           43.0\n",
              "577  2021-10-16  ...                           25.0\n",
              "578  2021-10-17  ...                           18.0\n",
              "\n",
              "[579 rows x 15 columns]"
            ]
          },
          "metadata": {},
          "execution_count": 24
        }
      ]
    },
    {
      "cell_type": "markdown",
      "metadata": {
        "id": "uiA5JLnlQMsY"
      },
      "source": [
        "Créons une nouvelle colonne : nb_deces_quotidien"
      ]
    },
    {
      "cell_type": "code",
      "metadata": {
        "colab": {
          "base_uri": "https://localhost:8080/"
        },
        "id": "YG3NqcVNQE6h",
        "outputId": "139f040a-d055-49a1-fab2-302205aba13e"
      },
      "source": [
        "nb_deces_quotidien = [df3['total_deces_hopital'].values[0]]\n",
        "for i in range(1,len(df3['total_deces_hopital'].values)):\n",
        "  nb_deces_quotidien.append(df3['total_deces_hopital'].values[i]-df3['total_deces_hopital'].values[i-1])\n",
        "\n",
        "print(len(nb_deces_quotidien))\n",
        "\n"
      ],
      "execution_count": null,
      "outputs": [
        {
          "output_type": "stream",
          "name": "stdout",
          "text": [
            "579\n"
          ]
        }
      ]
    },
    {
      "cell_type": "code",
      "metadata": {
        "colab": {
          "base_uri": "https://localhost:8080/",
          "height": 605
        },
        "id": "UfdoMH87QV-o",
        "outputId": "2a68a5fd-d5d7-49d4-9e16-9462b4b039be"
      },
      "source": [
        "df3['nb_deces_quotidien'] = nb_deces_quotidien\n",
        "df3"
      ],
      "execution_count": null,
      "outputs": [
        {
          "output_type": "execute_result",
          "data": {
            "text/html": [
              "<div>\n",
              "<style scoped>\n",
              "    .dataframe tbody tr th:only-of-type {\n",
              "        vertical-align: middle;\n",
              "    }\n",
              "\n",
              "    .dataframe tbody tr th {\n",
              "        vertical-align: top;\n",
              "    }\n",
              "\n",
              "    .dataframe thead th {\n",
              "        text-align: right;\n",
              "    }\n",
              "</style>\n",
              "<table border=\"1\" class=\"dataframe\">\n",
              "  <thead>\n",
              "    <tr style=\"text-align: right;\">\n",
              "      <th></th>\n",
              "      <th>jour</th>\n",
              "      <th>tx_incid</th>\n",
              "      <th>R</th>\n",
              "      <th>taux_occupation_sae</th>\n",
              "      <th>tx_pos</th>\n",
              "      <th>total_cas_confirmes</th>\n",
              "      <th>total_deces_hopital</th>\n",
              "      <th>total_deces_ehpad</th>\n",
              "      <th>total_cas_confirmes_ehpad</th>\n",
              "      <th>total_cas_possibles_ehpad</th>\n",
              "      <th>patients_reanimation</th>\n",
              "      <th>patients_hospitalises</th>\n",
              "      <th>total_patients_gueris</th>\n",
              "      <th>nouveaux_patients_hospitalises</th>\n",
              "      <th>nouveaux_patients_reanimation</th>\n",
              "      <th>nb_deces_quotidien</th>\n",
              "    </tr>\n",
              "  </thead>\n",
              "  <tbody>\n",
              "    <tr>\n",
              "      <th>0</th>\n",
              "      <td>2020-03-18</td>\n",
              "      <td>NaN</td>\n",
              "      <td>NaN</td>\n",
              "      <td>15.2</td>\n",
              "      <td>NaN</td>\n",
              "      <td>9134</td>\n",
              "      <td>264</td>\n",
              "      <td>NaN</td>\n",
              "      <td>NaN</td>\n",
              "      <td>NaN</td>\n",
              "      <td>931.0</td>\n",
              "      <td>3626.0</td>\n",
              "      <td>1000.0</td>\n",
              "      <td>NaN</td>\n",
              "      <td>NaN</td>\n",
              "      <td>264</td>\n",
              "    </tr>\n",
              "    <tr>\n",
              "      <th>1</th>\n",
              "      <td>2020-03-19</td>\n",
              "      <td>5.570823</td>\n",
              "      <td>NaN</td>\n",
              "      <td>19.8</td>\n",
              "      <td>NaN</td>\n",
              "      <td>10995</td>\n",
              "      <td>372</td>\n",
              "      <td>NaN</td>\n",
              "      <td>NaN</td>\n",
              "      <td>NaN</td>\n",
              "      <td>1122.0</td>\n",
              "      <td>4461.0</td>\n",
              "      <td>1300.0</td>\n",
              "      <td>2229.0</td>\n",
              "      <td>438.0</td>\n",
              "      <td>108</td>\n",
              "    </tr>\n",
              "    <tr>\n",
              "      <th>2</th>\n",
              "      <td>2020-03-20</td>\n",
              "      <td>8.403950</td>\n",
              "      <td>NaN</td>\n",
              "      <td>25.6</td>\n",
              "      <td>NaN</td>\n",
              "      <td>12612</td>\n",
              "      <td>450</td>\n",
              "      <td>NaN</td>\n",
              "      <td>NaN</td>\n",
              "      <td>NaN</td>\n",
              "      <td>1297.0</td>\n",
              "      <td>5226.0</td>\n",
              "      <td>1587.0</td>\n",
              "      <td>1256.0</td>\n",
              "      <td>242.0</td>\n",
              "      <td>78</td>\n",
              "    </tr>\n",
              "    <tr>\n",
              "      <th>3</th>\n",
              "      <td>2020-03-21</td>\n",
              "      <td>11.013409</td>\n",
              "      <td>NaN</td>\n",
              "      <td>28.7</td>\n",
              "      <td>NaN</td>\n",
              "      <td>14459</td>\n",
              "      <td>562</td>\n",
              "      <td>NaN</td>\n",
              "      <td>NaN</td>\n",
              "      <td>NaN</td>\n",
              "      <td>1525.0</td>\n",
              "      <td>6172.0</td>\n",
              "      <td>1811.0</td>\n",
              "      <td>1540.0</td>\n",
              "      <td>298.0</td>\n",
              "      <td>112</td>\n",
              "    </tr>\n",
              "    <tr>\n",
              "      <th>4</th>\n",
              "      <td>2020-03-22</td>\n",
              "      <td>13.600502</td>\n",
              "      <td>NaN</td>\n",
              "      <td>33.1</td>\n",
              "      <td>NaN</td>\n",
              "      <td>16689</td>\n",
              "      <td>674</td>\n",
              "      <td>NaN</td>\n",
              "      <td>NaN</td>\n",
              "      <td>NaN</td>\n",
              "      <td>1746.0</td>\n",
              "      <td>7240.0</td>\n",
              "      <td>2200.0</td>\n",
              "      <td>1534.0</td>\n",
              "      <td>309.0</td>\n",
              "      <td>112</td>\n",
              "    </tr>\n",
              "    <tr>\n",
              "      <th>...</th>\n",
              "      <td>...</td>\n",
              "      <td>...</td>\n",
              "      <td>...</td>\n",
              "      <td>...</td>\n",
              "      <td>...</td>\n",
              "      <td>...</td>\n",
              "      <td>...</td>\n",
              "      <td>...</td>\n",
              "      <td>...</td>\n",
              "      <td>...</td>\n",
              "      <td>...</td>\n",
              "      <td>...</td>\n",
              "      <td>...</td>\n",
              "      <td>...</td>\n",
              "      <td>...</td>\n",
              "      <td>...</td>\n",
              "    </tr>\n",
              "    <tr>\n",
              "      <th>574</th>\n",
              "      <td>2021-10-13</td>\n",
              "      <td>46.031442</td>\n",
              "      <td>NaN</td>\n",
              "      <td>21.6</td>\n",
              "      <td>1.086855</td>\n",
              "      <td>7069089</td>\n",
              "      <td>90280</td>\n",
              "      <td>26865.0</td>\n",
              "      <td>NaN</td>\n",
              "      <td>NaN</td>\n",
              "      <td>1091.0</td>\n",
              "      <td>6601.0</td>\n",
              "      <td>424238.0</td>\n",
              "      <td>219.0</td>\n",
              "      <td>58.0</td>\n",
              "      <td>23</td>\n",
              "    </tr>\n",
              "    <tr>\n",
              "      <th>575</th>\n",
              "      <td>2021-10-14</td>\n",
              "      <td>48.483949</td>\n",
              "      <td>NaN</td>\n",
              "      <td>21.3</td>\n",
              "      <td>1.074309</td>\n",
              "      <td>7074276</td>\n",
              "      <td>90318</td>\n",
              "      <td>26867.0</td>\n",
              "      <td>NaN</td>\n",
              "      <td>NaN</td>\n",
              "      <td>1075.0</td>\n",
              "      <td>6523.0</td>\n",
              "      <td>424464.0</td>\n",
              "      <td>206.0</td>\n",
              "      <td>44.0</td>\n",
              "      <td>38</td>\n",
              "    </tr>\n",
              "    <tr>\n",
              "      <th>576</th>\n",
              "      <td>2021-10-15</td>\n",
              "      <td>NaN</td>\n",
              "      <td>NaN</td>\n",
              "      <td>20.8</td>\n",
              "      <td>NaN</td>\n",
              "      <td>7080375</td>\n",
              "      <td>90352</td>\n",
              "      <td>26869.0</td>\n",
              "      <td>NaN</td>\n",
              "      <td>NaN</td>\n",
              "      <td>1051.0</td>\n",
              "      <td>6470.0</td>\n",
              "      <td>424693.0</td>\n",
              "      <td>215.0</td>\n",
              "      <td>43.0</td>\n",
              "      <td>34</td>\n",
              "    </tr>\n",
              "    <tr>\n",
              "      <th>577</th>\n",
              "      <td>2021-10-16</td>\n",
              "      <td>NaN</td>\n",
              "      <td>NaN</td>\n",
              "      <td>20.7</td>\n",
              "      <td>NaN</td>\n",
              "      <td>7085274</td>\n",
              "      <td>90367</td>\n",
              "      <td>26869.0</td>\n",
              "      <td>NaN</td>\n",
              "      <td>NaN</td>\n",
              "      <td>1049.0</td>\n",
              "      <td>6437.0</td>\n",
              "      <td>424817.0</td>\n",
              "      <td>109.0</td>\n",
              "      <td>25.0</td>\n",
              "      <td>15</td>\n",
              "    </tr>\n",
              "    <tr>\n",
              "      <th>578</th>\n",
              "      <td>2021-10-17</td>\n",
              "      <td>NaN</td>\n",
              "      <td>NaN</td>\n",
              "      <td>20.8</td>\n",
              "      <td>NaN</td>\n",
              "      <td>7089052</td>\n",
              "      <td>90372</td>\n",
              "      <td>26869.0</td>\n",
              "      <td>NaN</td>\n",
              "      <td>NaN</td>\n",
              "      <td>1052.0</td>\n",
              "      <td>6448.0</td>\n",
              "      <td>424868.0</td>\n",
              "      <td>71.0</td>\n",
              "      <td>18.0</td>\n",
              "      <td>5</td>\n",
              "    </tr>\n",
              "  </tbody>\n",
              "</table>\n",
              "<p>579 rows × 16 columns</p>\n",
              "</div>"
            ],
            "text/plain": [
              "           jour   tx_incid  ...  nouveaux_patients_reanimation  nb_deces_quotidien\n",
              "0    2020-03-18        NaN  ...                            NaN                 264\n",
              "1    2020-03-19   5.570823  ...                          438.0                 108\n",
              "2    2020-03-20   8.403950  ...                          242.0                  78\n",
              "3    2020-03-21  11.013409  ...                          298.0                 112\n",
              "4    2020-03-22  13.600502  ...                          309.0                 112\n",
              "..          ...        ...  ...                            ...                 ...\n",
              "574  2021-10-13  46.031442  ...                           58.0                  23\n",
              "575  2021-10-14  48.483949  ...                           44.0                  38\n",
              "576  2021-10-15        NaN  ...                           43.0                  34\n",
              "577  2021-10-16        NaN  ...                           25.0                  15\n",
              "578  2021-10-17        NaN  ...                           18.0                   5\n",
              "\n",
              "[579 rows x 16 columns]"
            ]
          },
          "metadata": {},
          "execution_count": 26
        }
      ]
    },
    {
      "cell_type": "markdown",
      "metadata": {
        "id": "HsQt2mXgSAyd"
      },
      "source": [
        "# Voyons si il y a une corrélation entre le taux d'occupation à l'hopitâl et le nombre de décès quotidien :"
      ]
    },
    {
      "cell_type": "code",
      "metadata": {
        "colab": {
          "base_uri": "https://localhost:8080/",
          "height": 282
        },
        "id": "CPzF7SC2Qdmi",
        "outputId": "a4ff75f9-9150-495b-edd7-fd2e72a0699e"
      },
      "source": [
        "X = df3.index\n",
        "Y_deces = df3['nb_deces_quotidien'] #bleu\n",
        "Y_taux = df3['taux_occupation_sae'] #orange\n",
        "y = savgol_filter(Y_deces, 51, 3) #lissage de Y\n",
        "plt.plot(X,y)\n",
        "plt.plot(X,Y_taux)"
      ],
      "execution_count": null,
      "outputs": [
        {
          "output_type": "execute_result",
          "data": {
            "text/plain": [
              "[<matplotlib.lines.Line2D at 0x7fe815f01f50>]"
            ]
          },
          "metadata": {},
          "execution_count": 27
        },
        {
          "output_type": "display_data",
          "data": {
            "image/png": "[encoded data removed]",
            "text/plain": [
              "<Figure size 432x288 with 1 Axes>"
            ]
          },
          "metadata": {
            "needs_background": "light"
          }
        }
      ]
    },
    {
      "cell_type": "code",
      "metadata": {
        "colab": {
          "base_uri": "https://localhost:8080/",
          "height": 110
        },
        "id": "MEQGR0AWtZG6",
        "outputId": "2e4d329c-fa79-40c4-8fd3-e2b5cee42d80"
      },
      "source": [
        "df_test = df3[['nb_deces_quotidien','taux_occupation_sae']]\n",
        "df_test.corr()"
      ],
      "execution_count": null,
      "outputs": [
        {
          "output_type": "execute_result",
          "data": {
            "text/html": [
              "<div>\n",
              "<style scoped>\n",
              "    .dataframe tbody tr th:only-of-type {\n",
              "        vertical-align: middle;\n",
              "    }\n",
              "\n",
              "    .dataframe tbody tr th {\n",
              "        vertical-align: top;\n",
              "    }\n",
              "\n",
              "    .dataframe thead th {\n",
              "        text-align: right;\n",
              "    }\n",
              "</style>\n",
              "<table border=\"1\" class=\"dataframe\">\n",
              "  <thead>\n",
              "    <tr style=\"text-align: right;\">\n",
              "      <th></th>\n",
              "      <th>nb_deces_quotidien</th>\n",
              "      <th>taux_occupation_sae</th>\n",
              "    </tr>\n",
              "  </thead>\n",
              "  <tbody>\n",
              "    <tr>\n",
              "      <th>nb_deces_quotidien</th>\n",
              "      <td>1.000000</td>\n",
              "      <td>0.818858</td>\n",
              "    </tr>\n",
              "    <tr>\n",
              "      <th>taux_occupation_sae</th>\n",
              "      <td>0.818858</td>\n",
              "      <td>1.000000</td>\n",
              "    </tr>\n",
              "  </tbody>\n",
              "</table>\n",
              "</div>"
            ],
            "text/plain": [
              "                     nb_deces_quotidien  taux_occupation_sae\n",
              "nb_deces_quotidien             1.000000             0.818858\n",
              "taux_occupation_sae            0.818858             1.000000"
            ]
          },
          "metadata": {},
          "execution_count": 35
        }
      ]
    },
    {
      "cell_type": "markdown",
      "metadata": {
        "id": "nFO4VOSIuF--"
      },
      "source": [
        "On remarque qu'il y a une corrélation importante entre ces deux indicateurs. Cela se voit à la fois graphiquement et numériquement."
      ]
    },
    {
      "cell_type": "code",
      "metadata": {
        "colab": {
          "base_uri": "https://localhost:8080/",
          "height": 282
        },
        "id": "hCLIhbiqSprb",
        "outputId": "44c641ca-12d3-4676-d19b-178e532b723d"
      },
      "source": [
        "plt.scatter(Y_taux,y,marker ='o')"
      ],
      "execution_count": null,
      "outputs": [
        {
          "output_type": "execute_result",
          "data": {
            "text/plain": [
              "<matplotlib.collections.PathCollection at 0x7fe815e6d190>"
            ]
          },
          "metadata": {},
          "execution_count": 28
        },
        {
          "output_type": "display_data",
          "data": {
            "image/png": "[encoded data removed]",
            "text/plain": [
              "<Figure size 432x288 with 1 Axes>"
            ]
          },
          "metadata": {
            "needs_background": "light"
          }
        }
      ]
    },
    {
      "cell_type": "markdown",
      "metadata": {
        "id": "QbplRHQyUu7p"
      },
      "source": [
        "On remarque que le nombre de morts est directement lié au taux d'occupation, réalisons un régression pour montrer cela :\n",
        "\n"
      ]
    },
    {
      "cell_type": "code",
      "metadata": {
        "id": "MO578CvxWjoC"
      },
      "source": [
        "X = Y_taux.values"
      ],
      "execution_count": null,
      "outputs": []
    },
    {
      "cell_type": "code",
      "metadata": {
        "colab": {
          "base_uri": "https://localhost:8080/",
          "height": 282
        },
        "id": "rq_gghS7Yr5n",
        "outputId": "8cca1a57-d732-4290-93b9-432fd5d3ce51"
      },
      "source": [
        "from scipy import stats\n",
        "#linregress() renvoie plusieurs variables de retour. On s'interessera \n",
        "# particulierement au slope et intercept\n",
        "slope, intercept, r_value, p_value, std_err = stats.linregress(X, y.T)\n",
        "\n",
        "def predict(x):\n",
        "   return slope * x + intercept\n",
        "\n",
        "#la variable fitLine sera un tableau de valeurs prédites depuis la tableau de variables X\n",
        "fitLine = predict(X)\n",
        "plt.plot(X, fitLine, c='r')\n",
        "plt.scatter(X, y,  color='black')\n",
        "print(slope,intercept)"
      ],
      "execution_count": null,
      "outputs": [
        {
          "output_type": "stream",
          "name": "stdout",
          "text": [
            "3.3964475271916745 -15.905894724769354\n"
          ]
        },
        {
          "output_type": "display_data",
          "data": {
            "image/png": "[encoded data removed]",
            "text/plain": [
              "<Figure size 432x288 with 1 Axes>"
            ]
          },
          "metadata": {
            "needs_background": "light"
          }
        }
      ]
    },
    {
      "cell_type": "code",
      "metadata": {
        "colab": {
          "base_uri": "https://localhost:8080/"
        },
        "id": "X6d9RfOWZliy",
        "outputId": "50a8dc5c-1f13-4c27-a7ff-54bdb060720d"
      },
      "source": [
        "from sklearn.metrics import r2_score\n",
        "r2_score(y,predict(X))"
      ],
      "execution_count": null,
      "outputs": [
        {
          "output_type": "execute_result",
          "data": {
            "text/plain": [
              "0.7760429769242423"
            ]
          },
          "metadata": {},
          "execution_count": 31
        }
      ]
    },
    {
      "cell_type": "markdown",
      "metadata": {
        "id": "pUO99g8EeSrd"
      },
      "source": [
        "On obtient un score pour cette régression de 0,77."
      ]
    }
  ]
}